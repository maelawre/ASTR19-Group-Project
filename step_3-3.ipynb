{
 "cells": [
  {
   "cell_type": "code",
   "execution_count": null,
   "id": "ca303daf-8208-4064-b30a-f1290d3e195a",
   "metadata": {},
   "outputs": [],
   "source": [
    "import numpy as np\n",
    "import matplotlib.pyplot as plt\n",
    "from scipy.optimize import curve_fit\n",
    "\n",
    "\n",
    "data = np.loadtxt('55Cnc_RV_274pts.txt')  #change to file name that you used\n",
    "time = data[:, 0]\n",
    "rv = data[:, 1]\n",
    "rv_err = data[:, 2]\n",
    "\n",
    "# Define a sinusoidal RV function\n",
    "def rv_model(t, K, P, phi, offset):\n",
    "    return K * np.sin(2 * np.pi * t / P + phi) + offset\n",
    "\n",
    "# Make a first guess for parameters: [K, P, φ, offset]\n",
    "# These can be tweaked depending on how the fit looks\n",
    "K_guess = 70     # in m/s\n",
    "P_guess = 14     # in days (e.g., 55 Cnc b)\n",
    "phi_guess = 0.0\n",
    "offset_guess = np.mean(rv)\n",
    "\n",
    "p0 = [K_guess, P_guess, phi_guess, offset_guess]\n",
    "\n",
    "# Fit the model to the data\n",
    "popt, pcov = curve_fit(rv_model, time, rv, p0=p0, sigma=rv_err, absolute_sigma=True)\n",
    "K_fit, P_fit, phi_fit, offset_fit = popt\n",
    "\n",
    "# Evaluate the model on the data points\n",
    "rv_fit = rv_model(time, *popt)\n",
    "\n",
    "# Plot data with error bars and best-fit model\n",
    "plt.errorbar(time, rv, yerr=rv_err, fmt='o', capsize=3, label='Data')\n",
    "plt.plot(time, rv_fit, 'r-', label='Best-fit Model')\n",
    "plt.xlabel('Time [JD]')\n",
    "plt.ylabel('Radial Velocity [m/s]')\n",
    "plt.title('Radial Velocity Curve for 55 Cnc')\n",
    "plt.legend()\n",
    "plt.grid(True)\n",
    "plt.tight_layout()\n",
    "plt.savefig('55Cnc_RV_Fit.pdf')\n",
    "plt.show()\n",
    "\n",
    "# Store fit parameters for Step 4\n",
    "K_fit = popt[0]\n",
    "P_fit = popt[1]\n",
    "phi_fit = popt[2]\n",
    "offset_fit = popt[3]\n"
   ]
  }
 ],
 "metadata": {
  "kernelspec": {
   "display_name": "Python 3 (ipykernel)",
   "language": "python",
   "name": "python3"
  },
  "language_info": {
   "codemirror_mode": {
    "name": "ipython",
    "version": 3
   },
   "file_extension": ".py",
   "mimetype": "text/x-python",
   "name": "python",
   "nbconvert_exporter": "python",
   "pygments_lexer": "ipython3",
   "version": "3.12.7"
  }
 },
 "nbformat": 4,
 "nbformat_minor": 5
}
