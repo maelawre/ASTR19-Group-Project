{
 "cells": [
  {
   "cell_type": "code",
   "execution_count": null,
   "id": "145d0a48-f140-41c8-96db-5ebab052a0f6",
   "metadata": {},
   "outputs": [],
   "source": [
    "residuals = rv - rv_model(time, *popt)\n",
    "\n",
    "#residuals by time plot\n",
    "plt.errorbar(time, residuals, yerr=rv_err, fmt='o', capsize=3)\n",
    "plt.axhline(0, color='gray', linestyle='--')\n",
    "plt.xlabel('Time [JD]')\n",
    "plt.ylabel('Residuals [m/s]')\n",
    "plt.title('Residuals from Best-fit Model')\n",
    "plt.grid(True)\n",
    "plt.tight_layout()\n",
    "plt.savefig('55Cnc_Residuals_Time.pdf')\n",
    "plt.show()\n",
    "\n",
    "#histogram\n",
    "plt.hist(residuals, bins='auto', edgecolor='black', alpha=0.75)\n",
    "plt.xlabel('Residual [m/s]')\n",
    "plt.ylabel('Frequency')\n",
    "plt.title('Histogram of RV Residuals')\n",
    "\n",
    "#standard deviation\n",
    "res_std = np.std(residuals)\n",
    "plt.axvline(res_std, color='red', linestyle='--', label=f'+1σ = {res_std:.2f}')\n",
    "plt.axvline(-res_std, color='red', linestyle='--', label=f'-1σ')\n",
    "plt.legend()\n",
    "plt.grid(True)\n",
    "plt.tight_layout()\n",
    "plt.savefig('55Cnc_Residuals_Histogram.pdf')\n",
    "plt.show()\n",
    "\n",
    "#print result\n",
    "print(f\"Standard deviation of residuals: {res_std:.2f} m/s\")\n",
    "print(f\"Fit parameters: K = {K_fit:.2f}, P = {P_fit:.2f}, phase = {phi_fit:.2f}, offset = {offset_fit:.2f}\")\n"
   ]
  }
 ],
 "metadata": {
  "kernelspec": {
   "display_name": "Python 3 (ipykernel)",
   "language": "python",
   "name": "python3"
  },
  "language_info": {
   "codemirror_mode": {
    "name": "ipython",
    "version": 3
   },
   "file_extension": ".py",
   "mimetype": "text/x-python",
   "name": "python",
   "nbconvert_exporter": "python",
   "pygments_lexer": "ipython3",
   "version": "3.12.7"
  }
 },
 "nbformat": 4,
 "nbformat_minor": 5
}
